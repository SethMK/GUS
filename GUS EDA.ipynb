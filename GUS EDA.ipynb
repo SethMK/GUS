{
 "metadata": {
  "language_info": {
   "codemirror_mode": {
    "name": "ipython",
    "version": 3
   },
   "file_extension": ".py",
   "mimetype": "text/x-python",
   "name": "python",
   "nbconvert_exporter": "python",
   "pygments_lexer": "ipython3",
   "version": "3.8.10"
  },
  "orig_nbformat": 2,
  "kernelspec": {
   "name": "python3810jvsc74a57bd0ca1de479bc27e258cf9a1e4b3ba6352ccb1337d16256fac9d4272788c4f7811d",
   "display_name": "Python 3.8.10 64-bit ('eda_api': conda)"
  }
 },
 "nbformat": 4,
 "nbformat_minor": 2,
 "cells": [
  {
   "cell_type": "code",
   "execution_count": null,
   "metadata": {},
   "outputs": [],
   "source": [
    "import pandas as pd\n",
    "import requests\n",
    "import matplotlib_inline\n",
    "import matplotlib.pyplot as plt\n",
    "import numpy as np"
   ]
  },
  {
   "cell_type": "code",
   "execution_count": null,
   "metadata": {},
   "outputs": [],
   "source": [
    "# Load GUS data xlsx\n",
    "excel = 'Data/zgony_wedlug_tygodni/Zgony wedąug tygodni w Polsce_2021.xlsx'\n",
    "d21 = pd.read_excel(excel)\n",
    "d21"
   ]
  },
  {
   "cell_type": "code",
   "execution_count": null,
   "metadata": {},
   "outputs": [],
   "source": [
    "# Removing first 5 rows\n",
    "d21pl = d21.iloc[5:8,1:55]\n",
    "d21pl"
   ]
  },
  {
   "cell_type": "code",
   "execution_count": null,
   "metadata": {},
   "outputs": [],
   "source": [
    "d21pl.columns = d21pl.iloc[0]\n",
    "d21pl = d21pl.drop(d21pl.index[1])\n",
    "d21pl = d21pl.drop(d21pl.index[0])\n",
    "d21pl"
   ]
  },
  {
   "cell_type": "code",
   "execution_count": null,
   "metadata": {},
   "outputs": [],
   "source": [
    "#drop nan columns\n",
    "# rename column name\n",
    "d21pl = d21pl.dropna(axis=1, how='all')\n",
    "d21pl = d21pl.rename(columns = {d21pl.columns[0] : \"Country\"})\n",
    "d21pl = d21pl.drop(columns = d21pl.columns[0])\n",
    "d21pl\n"
   ]
  },
  {
   "cell_type": "code",
   "execution_count": null,
   "metadata": {},
   "outputs": [],
   "source": [
    "# Transpose \n",
    "d21plT = d21pl.T\n",
    "# Insert padding\n",
    "\n",
    "d21plT.plot()\n",
    "\n",
    "# Customize the plot\n",
    "plt.xlabel(\"Weeks\")\n",
    "plt.title(\"Number of deaths in Poland over weeks in 2021\")\n",
    "plt.legend(\"Deaths total\")\n",
    "plt.show()"
   ]
  },
  {
   "cell_type": "code",
   "execution_count": null,
   "metadata": {},
   "outputs": [],
   "source": [
    "d21.loc[d21.iloc[:,1] == 'PL51']"
   ]
  },
  {
   "cell_type": "code",
   "execution_count": null,
   "metadata": {},
   "outputs": [],
   "source": []
  }
 ]
}